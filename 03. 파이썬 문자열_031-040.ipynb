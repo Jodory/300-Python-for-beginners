{
 "cells": [
  {
   "cell_type": "markdown",
   "metadata": {},
   "source": [
    "021 문자열 인덱싱\n",
    "\n",
    "\n",
    "letters가 바인딩하는 문자열에서 첫번째와 세번째 문자를 출력하세요.\n",
    "\n",
    "\n",
    ">> letters = 'python'\n",
    "\n",
    "\n",
    "실행 예\n",
    "\n",
    "\n",
    "p t"
   ]
  },
  {
   "cell_type": "code",
   "execution_count": 2,
   "metadata": {},
   "outputs": [
    {
     "name": "stdout",
     "output_type": "stream",
     "text": [
      "p t\n"
     ]
    }
   ],
   "source": [
    "letters = 'python'\n",
    "print(letters[0], letters[2])"
   ]
  },
  {
   "cell_type": "markdown",
   "metadata": {},
   "source": [
    "022 문자열 슬라이싱\n",
    "\n",
    "\n",
    "자동차 번호가 다음과 같을 때 뒤에 4자리만 출력하세요.\n",
    "\n",
    "\n",
    ">> license_plate = \"24가 2210\"\n",
    "\n",
    "\n",
    "실행 예: 2210"
   ]
  },
  {
   "cell_type": "code",
   "execution_count": 3,
   "metadata": {},
   "outputs": [
    {
     "name": "stdout",
     "output_type": "stream",
     "text": [
      "2210\n"
     ]
    }
   ],
   "source": [
    "license_plate = '24가 2210'\n",
    "print(license_plate[-4:])"
   ]
  },
  {
   "cell_type": "markdown",
   "metadata": {},
   "source": [
    "023 문자열 인덱싱\n",
    "\n",
    "\n",
    "아래의 문자열에서 '홀' 만 출력하세요.\n",
    "\n",
    "\n",
    ">> string = \"홀짝홀짝홀짝\"\n",
    "\n",
    "\n",
    "실행 예:\n",
    "\n",
    "\n",
    "홀홀홀"
   ]
  },
  {
   "cell_type": "code",
   "execution_count": 6,
   "metadata": {},
   "outputs": [
    {
     "name": "stdout",
     "output_type": "stream",
     "text": [
      "홀홀홀"
     ]
    }
   ],
   "source": [
    "string = '홀짝홀짝홀짝'\n",
    "for str in string:\n",
    "    if str == '홀':\n",
    "        print(str, end = '')"
   ]
  },
  {
   "cell_type": "markdown",
   "metadata": {},
   "source": [
    "024 문자열 슬라이싱\n",
    "\n",
    "\n",
    "문자열을 거꾸로 뒤집어 출력하세요.\n",
    "\n",
    "\n",
    ">> string = \"PYTHON\"\n",
    "\n",
    "\n",
    "실행 예:\n",
    "\n",
    "\n",
    "NOHTYP"
   ]
  },
  {
   "cell_type": "code",
   "execution_count": 11,
   "metadata": {},
   "outputs": [
    {
     "name": "stdout",
     "output_type": "stream",
     "text": [
      "NOHTYP\n"
     ]
    }
   ],
   "source": [
    "string = 'PYTHON'\n",
    "print(string[::-1])"
   ]
  },
  {
   "cell_type": "markdown",
   "metadata": {},
   "source": [
    "025 문자열 치환\n",
    "\n",
    "\n",
    "아래의 전화번호에서 하이푼 ('-')을 제거하고 출력하세요.\n",
    "\n",
    "\n",
    ">> phone_number = \"010-1111-2222\"\n",
    "\n",
    "\n",
    "실행 예\n",
    "\n",
    "\n",
    "010 1111 2222"
   ]
  },
  {
   "cell_type": "code",
   "execution_count": 12,
   "metadata": {},
   "outputs": [
    {
     "name": "stdout",
     "output_type": "stream",
     "text": [
      "010 1111 2222\n"
     ]
    }
   ],
   "source": [
    "phone_number = \"010-1111-2222\"\n",
    "print(phone_number.replace('-', ' '))"
   ]
  },
  {
   "cell_type": "markdown",
   "metadata": {},
   "source": [
    "026 문자열 다루기\n",
    "\n",
    "\n",
    "25번 문제의 전화번호를 아래와 같이 모두 붙여 출력하세요.\n",
    "\n",
    "\n",
    "실행 예\n",
    "\n",
    "\n",
    "01011112222"
   ]
  },
  {
   "cell_type": "code",
   "execution_count": 13,
   "metadata": {},
   "outputs": [
    {
     "name": "stdout",
     "output_type": "stream",
     "text": [
      "01011112222\n"
     ]
    }
   ],
   "source": [
    "phone_number = \"010-1111-2222\"\n",
    "print(phone_number.replace('-', ''))"
   ]
  },
  {
   "cell_type": "markdown",
   "metadata": {},
   "source": [
    "027 문자열 다루기\n",
    "\n",
    "\n",
    "url 에 저장된 웹 페이지 주소에서 도메인을 출력하세요.\n",
    "\n",
    "\n",
    ">> url = \"http://sharebook.kr\"\n",
    "\n",
    "\n",
    "실행 예:\n",
    "\n",
    "\n",
    "kr"
   ]
  },
  {
   "cell_type": "code",
   "execution_count": 14,
   "metadata": {},
   "outputs": [
    {
     "name": "stdout",
     "output_type": "stream",
     "text": [
      "kr\n"
     ]
    }
   ],
   "source": [
    "url = \"http://sharebook.kr\"\n",
    "url_list = url.split('.')\n",
    "print(url_list[-1])"
   ]
  },
  {
   "cell_type": "markdown",
   "metadata": {},
   "source": [
    "028 문자열은 immutable\n",
    "\n",
    "\n",
    "아래 코드의 실행 결과를 예상해보세요.\n",
    "\n",
    "\n",
    ">> lang = 'python'\n",
    "\n",
    "\n",
    ">> lang[0] = 'P'\n",
    "\n",
    "\n",
    ">> print(lang)"
   ]
  },
  {
   "cell_type": "code",
   "execution_count": 17,
   "metadata": {},
   "outputs": [
    {
     "name": "stdout",
     "output_type": "stream",
     "text": [
      "Python\n"
     ]
    }
   ],
   "source": [
    "lang = 'python'\n",
    "lang[0] = 'P' # 오류남 replace()메소드를 활용해서 바꿔야함\n",
    "# lang = lang.replace('p', 'P')\n",
    "print(lang)"
   ]
  },
  {
   "cell_type": "markdown",
   "metadata": {},
   "source": [
    "029 replace 메서드\n",
    "\n",
    "\n",
    "아래 문자열에서 소문자 'a'를 대문자 'A'로 변경하세요.\n",
    "\n",
    "\n",
    ">> string = 'abcdfe2a354a32a'\n",
    "\n",
    "\n",
    "실행 예:\n",
    "\n",
    "\n",
    "Abcdfe2A354A32A\n"
   ]
  },
  {
   "cell_type": "code",
   "execution_count": 18,
   "metadata": {},
   "outputs": [
    {
     "name": "stdout",
     "output_type": "stream",
     "text": [
      "Abcdfe2A354A32A\n"
     ]
    }
   ],
   "source": [
    "string = 'abcdfe2a354a32a'\n",
    "string = string.replace('a', 'A')\n",
    "print(string)"
   ]
  },
  {
   "cell_type": "markdown",
   "metadata": {},
   "source": [
    "030 replace 메서드\n",
    "\n",
    "\n",
    "아래 코드의 실행 결과를 예상해보세요.\n",
    "\n",
    "\n",
    ">> string = 'abcd'\n",
    "\n",
    "\n",
    ">> string.replace('b', 'B')\n",
    "\n",
    "\n",
    ">> print(string)"
   ]
  },
  {
   "cell_type": "code",
   "execution_count": null,
   "metadata": {},
   "outputs": [],
   "source": [
    "string = 'abcd'\n",
    "string.replace('b', 'B')\n",
    "print(string)"
   ]
  }
 ],
 "metadata": {
  "kernelspec": {
   "display_name": "Python 3",
   "language": "python",
   "name": "python3"
  },
  "language_info": {
   "codemirror_mode": {
    "name": "ipython",
    "version": 3
   },
   "file_extension": ".py",
   "mimetype": "text/x-python",
   "name": "python",
   "nbconvert_exporter": "python",
   "pygments_lexer": "ipython3",
   "version": "3.10.11"
  },
  "orig_nbformat": 4
 },
 "nbformat": 4,
 "nbformat_minor": 2
}
